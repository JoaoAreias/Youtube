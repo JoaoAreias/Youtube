import matplotlib.pyplot as plt
import solution
import numpy as np



input1 = list(map(int, "1 2 3".split()))
input2 = list(map(int, "1 2 3 4".split()))
input3 = list(map(int, "1 10 2 9 3 8 4 7 5 6".split()))



x = np.random.randint(-10, 10, 7).tolist()
print(x, solution.poorness(iter(x)))


values = input2 
x = np.linspace(
    np.min(values), 
    np.max(values),
    num=10000
)
y = np.zeros(x.shape)
for i, value in enumerate(x):
    y[i] = solution.weakness(value, values)


plt.plot(x, y)
plt.savefig("input2.png", bbox_inches='tight', dpi=600)



